{
 "cells": [
  {
   "cell_type": "markdown",
   "metadata": {},
   "source": [
    "# Financial Independence - Monte Carlo Simulation\n",
    "## Theoretical model\n",
    "\n",
    "The theory behind the following equations can be found in [this notebook](https://github.com/OlegZero13/Data-Science-Algorithm-Gallery/blob/master/Personal_Financial_Simulator_with_ODE.ipynb) and [this article](https://zerowithdot.com/financial-independence-ode-python/).\n",
    "It is based on numerically solving a system of coupled _ordinary differential equations_:\n",
    "\n",
    "$$\n",
    "\\left\\{\\begin{matrix}\n",
    "\\frac{d}{dt} x_1(t) &= \\Delta (1 - \\beta) - x_1\\ln(1 + \\xi) \\\\\n",
    "\\frac{d}{dt} x_2(t) &= \\beta \\Delta + x_2\\ln(1 + R) - x_2\\ln(1 + \\xi)\n",
    "\\end{matrix}\\right.\n",
    "$$\n",
    "\n",
    "where\n",
    "* $x_1$ and $x_2$ denote the \"living wallet\" (home budget) and the \"investment bucket\", respectively.\n",
    "* $\\xi$ is an `inflation rate`.\n",
    "* $\\Delta = a(t) - s(t) - T(a)$ is the amount that is left each year.\n",
    "* $a(t) = \\alpha_0 + \\alpha_1 t$ is the `income`, where $\\alpha_1$ represents a pay rise.\n",
    "* $s(t) = \\sigma_0 + \\sigma_1 t$ is the yearly spending.\n",
    "* $T(a)$ represents the tax paid (it can be progressive or linear).:\n",
    "* $R$ is the (average) interest rate upon investment\n",
    "* $\\beta$ is the fraction of the baseline budget $x_1$ we transfer to the investment bucket $x_2$.\n",
    "\n",
    "The timeline is divided into three stages:\n",
    "* the \"youth\", where you basically make no money,\n",
    "* the \"adulthood\", where you earn, spend, invest and pay taxes, and\n",
    "* the \"old age\", where your salary is replaced with pension, but the spending stays purpously the same.\n",
    "\n",
    "It is also assumed, that once you transition from the _adulthood_ to the _old age_, $x_1$ and $x_2$ blend into $x_1$, meaning you no longer invest, but rather eat the fruits of your work. Note that even when a _hybrid_ lifestyle is possible, as you continue to invest lower amounts, we do not consider it here for simplicity.\n",
    "\n",
    "The goal is to see how far you can make it."
   ]
  },
  {
   "cell_type": "markdown",
   "metadata": {},
   "source": [
    "### Basic model"
   ]
  },
  {
   "cell_type": "code",
   "execution_count": 1,
   "metadata": {},
   "outputs": [
    {
     "name": "stdout",
     "output_type": "stream",
     "text": [
      "Populating the interactive namespace from numpy and matplotlib\n"
     ]
    }
   ],
   "source": [
    "import numpy as np\n",
    "import pandas as pd\n",
    "\n",
    "from scipy.integrate import odeint\n",
    "\n",
    "%pylab inline"
   ]
  },
  {
   "cell_type": "code",
   "execution_count": 242,
   "metadata": {},
   "outputs": [],
   "source": [
    "class Life:\n",
    "    def __init__(self):\n",
    "        self.starting_age = 25\n",
    "        self.retirement_age = 67\n",
    "        self.income = 1\n",
    "        self.pay_rise = 0.0\n",
    "        self.tax_type = 'None'\n",
    "        self.pension = 0\n",
    "        self.costs = 0.7\n",
    "        self.life_inflation = 0.0\n",
    "        self.investment_fraction = 0.1\n",
    "        self.interest_rate_proc = 10\n",
    "        self.inflation_proc = 2.5\n",
    "\n",
    "    def earn(self, t):\n",
    "        if t < self.starting_age:\n",
    "            return 0\n",
    "        elif self.starting_age <= t < self.retirement_age:\n",
    "            return 12 * (self.income + self.pay_rise * (t - self.starting_age))\n",
    "        else:\n",
    "            return 12 * self.pension\n",
    "\n",
    "    def spend(self, t):\n",
    "        if (t < self.starting_age):\n",
    "            return 0\n",
    "        return 12 * (self.costs + self.life_inflation * (t - self.starting_age))\n",
    "\n",
    "    def pay_taxes(self, t):\n",
    "        if (t < self.starting_age) or (t > self.retirement_age):\n",
    "            return 0\n",
    "        earning = self.earn(t)\n",
    "        if self.tax_type == 'UoP':\n",
    "            if earning < 85528.0:\n",
    "                return 0.17 * earning\n",
    "            else:\n",
    "                return 13983.74 - 0.32 * (earning - 85528)\n",
    "        elif self.tax_type == 'B2B':\n",
    "            return 0.19 * earning\n",
    "        else:\n",
    "            return 0\n",
    "\n",
    "\n",
    "def live(x, t, you):\n",
    "    balance = you.earn(t) - you.spend(t) - you.pay_taxes(t)\n",
    "    x0 = 0\n",
    "    x1 = np.log(1 + 0.01*you.interest_rate_proc) * x[1]\n",
    "\n",
    "    if balance >= 0:\n",
    "        x0 = balance * (1 - you.investment_fraction)\n",
    "        x1 += you.investment_fraction * balance\n",
    "    else:\n",
    "        x0 += -balance\n",
    "        x1 += balance\n",
    "\n",
    "         \n",
    "    x0 = x0 - np.log(1 + 0.01*you.inflation_proc) * x[0]\n",
    "    x1 = x1 - np.log(1 + 0.01*you.inflation_proc) * x[1]\n",
    "    return [x0, x1]"
   ]
  },
  {
   "cell_type": "markdown",
   "metadata": {},
   "source": [
    "### Simulation"
   ]
  },
  {
   "cell_type": "code",
   "execution_count": 243,
   "metadata": {},
   "outputs": [],
   "source": [
    "def simulate(you):\n",
    "    t0 = np.linspace(0, you.starting_age - 1, num=you.starting_age)\n",
    "    t1 = np.linspace(you.starting_age, you.retirement_age - 1, num=(you.retirement_age - you.starting_age))\n",
    "    t2 = np.linspace(you.retirement_age, 200, num=(100 - you.retirement_age + 1))\n",
    "\n",
    "    x_t0 = np.zeros((t0.shape[0], 2))\n",
    "    x_t1 = odeint(live, [0, 0], t1, args=(you,))\n",
    "   # x_t2 = odeint(live, [x_t1[-1].sum(), 0], t2, args=(you,))\n",
    "    x_t2 = odeint(live, x_t1[-1], t2, args=(you,))\n",
    "\n",
    "    df0 = pd.DataFrame({'time': t0, 'x_1': x_t0[:, 0], 'x_2': x_t0[:, 1], 'total': x_t0.sum(axis=1)})\n",
    "    df1 = pd.DataFrame({'time': t1, 'x_1': x_t1[:, 0], 'x_2': x_t1[:, 1], 'total': x_t1.sum(axis=1)})\n",
    "    df2 = pd.DataFrame({'time': t2, 'x_1': x_t2[:, 0], 'x_2': x_t2[:, 1], 'total': x_t2.sum(axis=1)})\n",
    "    return pd.concat([df0, df1, df2]).set_index('time')"
   ]
  },
  {
   "cell_type": "code",
   "execution_count": 246,
   "metadata": {},
   "outputs": [],
   "source": [
    "you = Life()\n",
    "\n",
    "you.starting_age        = 18   # y.o.\n",
    "you.retirement_age      = 67   # y.o.\n",
    "you.income              = 5000 # monthly\n",
    "you.pay_rise            = 0  # yearly\n",
    "you.tax_type            = \"B2B\"\n",
    "you.pension             = 0  # monthly\n",
    "you.costs               = 2000  # monthly\n",
    "you.life_inflation      = 0  # yearly\n",
    "you.investment_fraction = 0.75  # beta\n",
    "you.interest_rate_proc  = 5.0 # R\n",
    "you.inflation_proc      = 2.8  # xi\n",
    "\n",
    "df = simulate(you)"
   ]
  },
  {
   "cell_type": "code",
   "execution_count": 247,
   "metadata": {},
   "outputs": [
    {
     "data": {
      "text/plain": [
       "<matplotlib.axes._subplots.AxesSubplot at 0x7f815037b1d0>"
      ]
     },
     "execution_count": 247,
     "metadata": {},
     "output_type": "execute_result"
    },
    {
     "data": {
      "image/png": "[encoded data removed]",
      "text/plain": [
       "<Figure size 432x288 with 1 Axes>"
      ]
     },
     "metadata": {
      "needs_background": "light"
     },
     "output_type": "display_data"
    }
   ],
   "source": [
    "df.plot()#ylim=(-1000, None))"
   ]
  },
  {
   "cell_type": "markdown",
   "metadata": {},
   "source": [
    "## Adding random factor"
   ]
  },
  {
   "cell_type": "code",
   "execution_count": null,
   "metadata": {},
   "outputs": [],
   "source": [
    "class RealLife(Life):\n",
    "    "
   ]
  }
 ],
 "metadata": {
  "kernelspec": {
   "display_name": "Python 3",
   "language": "python",
   "name": "python3"
  },
  "language_info": {
   "codemirror_mode": {
    "name": "ipython",
    "version": 3
   },
   "file_extension": ".py",
   "mimetype": "text/x-python",
   "name": "python",
   "nbconvert_exporter": "python",
   "pygments_lexer": "ipython3",
   "version": "3.6.9"
  }
 },
 "nbformat": 4,
 "nbformat_minor": 4
}
