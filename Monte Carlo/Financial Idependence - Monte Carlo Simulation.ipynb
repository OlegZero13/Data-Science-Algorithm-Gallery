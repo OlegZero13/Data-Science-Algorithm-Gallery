{
 "cells": [
  {
   "cell_type": "markdown",
   "metadata": {},
   "source": [
    "# Financial Independence - Monte Carlo Simulation\n",
    "## Theoretical model\n",
    "\n",
    "The theory behind the following equations can be found in [this notebook](https://github.com/OlegZero13/Data-Science-Algorithm-Gallery/blob/master/Personal_Financial_Simulator_with_ODE.ipynb) and [this article](https://zerowithdot.com/financial-independence-ode-python/).\n",
    "It is based on numerically solving a system of coupled _ordinary differential equations_:\n",
    "\n",
    "$$\n",
    "\\left\\{\\begin{matrix}\n",
    "\\frac{d}{dt} x_1(t) &= \\Delta (1 - \\beta) - x_1\\ln(1 + \\xi) \\\\\n",
    "\\frac{d}{dt} x_2(t) &= \\beta \\Delta + x_2\\ln(1 + R) - x_2\\ln(1 + \\xi)\n",
    "\\end{matrix}\\right.\n",
    "$$\n",
    "\n",
    "$$\n",
    "\\frac{dx}{dt} = \\Delta(t) + x\\ln\\left(\\frac{1 + \\beta R}{1 + \\xi}\\right)\n",
    "$$\n",
    "\n",
    "where\n",
    "* $x_1$ and $x_2$ denote the \"living wallet\" (home budget) and the \"investment bucket\", respectively.\n",
    "* $\\xi$ is an `inflation rate`.\n",
    "* $\\Delta = a(t) - s(t) - T(a)$ is the amount that is left each year.\n",
    "* $a(t) = \\alpha_0 + \\alpha_1 t$ is the `income`, where $\\alpha_1$ represents a pay rise.\n",
    "* $s(t) = \\sigma_0 + \\sigma_1 t$ is the yearly spending.\n",
    "* $T(a)$ represents the tax paid (it can be progressive or linear).:\n",
    "* $R$ is the (average) interest rate upon investment\n",
    "* $\\beta$ is the fraction of the baseline budget $x_1$ we transfer to the investment bucket $x_2$.\n",
    "\n",
    "The timeline is divided into three stages:\n",
    "* the \"youth\", where you basically make no money,\n",
    "* the \"adulthood\", where you earn, spend, invest and pay taxes, and\n",
    "* the \"old age\", where your salary is replaced with pension, but the spending stays purpously the same.\n",
    "\n",
    "It is also assumed, that once you transition from the _adulthood_ to the _old age_, $x_1$ and $x_2$ blend into $x_1$, meaning you no longer invest, but rather eat the fruits of your work. Note that even when a _hybrid_ lifestyle is possible, as you continue to invest lower amounts, we do not consider it here for simplicity.\n",
    "\n",
    "The goal is to see how far you can make it."
   ]
  },
  {
   "cell_type": "markdown",
   "metadata": {},
   "source": [
    "### Basic model"
   ]
  },
  {
   "cell_type": "code",
   "execution_count": 1,
   "metadata": {},
   "outputs": [
    {
     "name": "stdout",
     "output_type": "stream",
     "text": [
      "Populating the interactive namespace from numpy and matplotlib\n"
     ]
    }
   ],
   "source": [
    "import numpy as np\n",
    "import pandas as pd\n",
    "\n",
    "from scipy.integrate import odeint\n",
    "\n",
    "%pylab inline"
   ]
  },
  {
   "cell_type": "code",
   "execution_count": 209,
   "metadata": {},
   "outputs": [],
   "source": [
    "class Life:\n",
    "    def __init__(self):\n",
    "        self.t0 = 25  # starting age\n",
    "        self.beta = 0.5  # investment fraction\n",
    "        self.r = 0.05  # interest rate\n",
    "        self.xi = 0.028  # inflation rate\n",
    "        self.x0 = 0  # initial amount\n",
    "        self.balance_fn = lambda x: 1000  # balance function\n",
    "    \n",
    "    def live(self, x, t):\n",
    "        rate = self.balance_fn(t) \\\n",
    "             + np.log(1 + self.beta * self.r) * x \\\n",
    "             - np.log(1 + self.xi) * x\n",
    "        return rate\n",
    "\n",
    "def run(x, t, you):\n",
    "    result = you.live(x, t)\n",
    "    return result"
   ]
  },
  {
   "cell_type": "markdown",
   "metadata": {},
   "source": [
    "### Simulation"
   ]
  },
  {
   "cell_type": "code",
   "execution_count": 210,
   "metadata": {},
   "outputs": [],
   "source": [
    "def simulate(you):\n",
    "    t0 = np.linspace(0, you.t0 - 1, num=you.t0)\n",
    "    t1 = np.linspace(you.t0, 200, num=(200 - you.t0 + 1))\n",
    "    \n",
    "    x_t0 = np.zeros(len(t0)).reshape(-1, 1)\n",
    "    x_t1 = odeint(run, [you.x0], t1, args=(you,))\n",
    "    \n",
    "    df0 = pd.DataFrame({'time': t0, 'x': x_t0[:, 0]})\n",
    "    df1 = pd.DataFrame({'time': t1, 'x': x_t1[:, 0]})\n",
    "    return pd.concat([df0, df1]).set_index('time')"
   ]
  },
  {
   "cell_type": "code",
   "execution_count": 218,
   "metadata": {},
   "outputs": [
    {
     "data": {
      "text/plain": [
       "[<matplotlib.lines.Line2D at 0x7ff7f190fcf8>]"
      ]
     },
     "execution_count": 218,
     "metadata": {},
     "output_type": "execute_result"
    },
    {
     "data": {
      "image/png": "[encoded data removed]",
      "text/plain": [
       "<Figure size 432x288 with 1 Axes>"
      ]
     },
     "metadata": {
      "needs_background": "light"
     },
     "output_type": "display_data"
    }
   ],
   "source": [
    "you = Life()\n",
    "you.beta = 0\n",
    "you.xi = 0\n",
    "\n",
    "df = simulate(you)\n",
    "\n",
    "plt.plot(df)"
   ]
  },
  {
   "cell_type": "code",
   "execution_count": 219,
   "metadata": {},
   "outputs": [
    {
     "data": {
      "text/plain": [
       "[<matplotlib.lines.Line2D at 0x7ff7f1757748>]"
      ]
     },
     "execution_count": 219,
     "metadata": {},
     "output_type": "execute_result"
    },
    {
     "data": {
      "image/png": "[encoded data removed]",
      "text/plain": [
       "<Figure size 432x288 with 1 Axes>"
      ]
     },
     "metadata": {
      "needs_background": "light"
     },
     "output_type": "display_data"
    }
   ],
   "source": [
    "#plt.plot(df)\n",
    "plt.plot(df)"
   ]
  },
  {
   "cell_type": "markdown",
   "metadata": {},
   "source": [
    "## Adding random factor"
   ]
  },
  {
   "cell_type": "code",
   "execution_count": 33,
   "metadata": {},
   "outputs": [
    {
     "ename": "SyntaxError",
     "evalue": "unexpected EOF while parsing (<ipython-input-33-4f91d203f663>, line 2)",
     "output_type": "error",
     "traceback": [
      "\u001b[0;36m  File \u001b[0;32m\"<ipython-input-33-4f91d203f663>\"\u001b[0;36m, line \u001b[0;32m2\u001b[0m\n\u001b[0;31m    \u001b[0m\n\u001b[0m    ^\u001b[0m\n\u001b[0;31mSyntaxError\u001b[0m\u001b[0;31m:\u001b[0m unexpected EOF while parsing\n"
     ]
    }
   ],
   "source": [
    "class RealLife(Life):\n",
    "    "
   ]
  },
  {
   "cell_type": "code",
   "execution_count": null,
   "metadata": {},
   "outputs": [],
   "source": []
  }
 ],
 "metadata": {
  "kernelspec": {
   "display_name": "Python 3",
   "language": "python",
   "name": "python3"
  },
  "language_info": {
   "codemirror_mode": {
    "name": "ipython",
    "version": 3
   },
   "file_extension": ".py",
   "mimetype": "text/x-python",
   "name": "python",
   "nbconvert_exporter": "python",
   "pygments_lexer": "ipython3",
   "version": "3.6.9"
  }
 },
 "nbformat": 4,
 "nbformat_minor": 4
}
